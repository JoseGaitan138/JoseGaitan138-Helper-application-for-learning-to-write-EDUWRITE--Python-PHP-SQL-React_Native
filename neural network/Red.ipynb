{
 "cells": [
  {
   "cell_type": "code",
   "execution_count": 2,
   "id": "after-friday",
   "metadata": {},
   "outputs": [
    {
     "ename": "ModuleNotFoundError",
     "evalue": "No module named 'pandas'",
     "output_type": "error",
     "traceback": [
      "\u001b[1;31m---------------------------------------------------------------------------\u001b[0m",
      "\u001b[1;31mModuleNotFoundError\u001b[0m                       Traceback (most recent call last)",
      "\u001b[1;32m<ipython-input-2-9d04201c874a>\u001b[0m in \u001b[0;36m<module>\u001b[1;34m()\u001b[0m\n\u001b[0;32m      1\u001b[0m \u001b[1;32mfrom\u001b[0m \u001b[0m__future__\u001b[0m \u001b[1;32mimport\u001b[0m \u001b[0mabsolute_import\u001b[0m\u001b[1;33m,\u001b[0m \u001b[0mdivision\u001b[0m\u001b[1;33m,\u001b[0m \u001b[0mprint_function\u001b[0m\u001b[1;33m,\u001b[0m \u001b[0municode_literals\u001b[0m\u001b[1;33m\u001b[0m\u001b[1;33m\u001b[0m\u001b[0m\n\u001b[0;32m      2\u001b[0m \u001b[1;33m\u001b[0m\u001b[0m\n\u001b[1;32m----> 3\u001b[1;33m \u001b[1;32mimport\u001b[0m \u001b[0mpandas\u001b[0m \u001b[1;32mas\u001b[0m \u001b[0mpd\u001b[0m\u001b[1;33m\u001b[0m\u001b[1;33m\u001b[0m\u001b[0m\n\u001b[0m\u001b[0;32m      4\u001b[0m \u001b[1;33m\u001b[0m\u001b[0m\n\u001b[0;32m      5\u001b[0m \u001b[1;32mimport\u001b[0m \u001b[0mtensorflow\u001b[0m \u001b[1;32mas\u001b[0m \u001b[0mtf\u001b[0m\u001b[1;33m\u001b[0m\u001b[1;33m\u001b[0m\u001b[0m\n",
      "\u001b[1;31mModuleNotFoundError\u001b[0m: No module named 'pandas'"
     ]
    }
   ],
   "source": [
    "from __future__ import absolute_import, division, print_function, unicode_literals\n",
    "\n",
    "import pandas as pd\n",
    "\n",
    "import tensorflow as tf\n",
    "from tensorflow.keras import datasets, layers, models\n",
    "\n",
    "import matplotlib.pyplot as plt\n",
    "import numpy as np\n",
    "import os\n",
    "from tqdm import tqdm #barra de progreso`\n",
    "import cv2\n",
    "from glob import glob\n",
    "\n",
    "#para redimencionar\n",
    "import sklearn\n",
    "import skimage \n",
    "from skimage.transform import resize\n",
    "\n",
    "import random\n",
    "#Usaremos datetime para nombrar archivos\n",
    "import datetime\n",
    "\n",
    "from imblearn.over_sampling import RandomOverSampler\n",
    "from imblearn.under_sampling import RandomUnderSampler\n",
    "from skimage.color import *\n",
    "from skimage.filters import meijering, sato, frangi, hessian\n",
    "\n",
    "\n",
    "print(tf.__version__)\n",
    "\n",
    "5+8\n"
   ]
  },
  {
   "cell_type": "code",
   "execution_count": 37,
   "id": "informative-saint",
   "metadata": {},
   "outputs": [],
   "source": [
    "train_dir = \"images/train/\"\n",
    "test_dir =  \"images/test/\"\n",
    "\n",
    "LOAD_FROM_IMAGES = False\n",
    "\n",
    "def get_data(folder):\n",
    "    X = []\n",
    "    y = []\n",
    "    for folderName in os.listdir(folder):\n",
    "        if not folderName.startswith('.'):\n",
    "            if folderName in ['A']:\n",
    "                label = 0\n",
    "            elif folderName in ['A2']:\n",
    "                label = 1\n",
    "            elif folderName in ['B']:\n",
    "                label = 2\n",
    "            elif folderName in ['B2']:\n",
    "                label = 3\n",
    "            elif folderName in ['C']:\n",
    "                label = 4\n",
    "            elif folderName in ['D']:\n",
    "                label = 5\n",
    "            elif folderName in ['D2']:\n",
    "                label = 6\n",
    "            elif folderName in ['E']:\n",
    "                label = 7\n",
    "            elif folderName in ['E2']:\n",
    "                label = 8\n",
    "            elif folderName in ['F']:\n",
    "                label = 9\n",
    "            elif folderName in ['F2']:\n",
    "                label = 10\n",
    "            elif folderName in ['G']:\n",
    "                label = 11\n",
    "            elif folderName in ['G2']:\n",
    "                label = 12\n",
    "            elif folderName in ['H']:\n",
    "                label = 13\n",
    "            elif folderName in ['H2']:\n",
    "                label = 14\n",
    "            elif folderName in ['I']:\n",
    "                label = 15\n",
    "            elif folderName in ['I2']:\n",
    "                label = 16\n",
    "            elif folderName in ['J']:\n",
    "                label = 17\n",
    "            elif folderName in ['J2']:\n",
    "                label = 18\n",
    "            elif folderName in ['K']:\n",
    "                label = 19\n",
    "            elif folderName in ['L']:\n",
    "                label = 20\n",
    "            elif folderName in ['L2']:\n",
    "                label = 21\n",
    "            elif folderName in ['M']:\n",
    "                label = 22\n",
    "            elif folderName in ['M2']:\n",
    "                label = 23\n",
    "            elif folderName in ['N']:\n",
    "                label = 24\n",
    "            elif folderName in ['N2']:\n",
    "                label = 25\n",
    "            elif folderName in ['N3']:\n",
    "                label = 26\n",
    "            elif folderName in ['N4']:\n",
    "                label = 27\n",
    "            elif folderName in ['O']:\n",
    "                label = 28\n",
    "            elif folderName in ['P']:\n",
    "                label = 29\n",
    "            elif folderName in ['Q']:\n",
    "                label = 30\n",
    "            elif folderName in ['Q2']:\n",
    "                label = 31\n",
    "            elif folderName in ['R']:\n",
    "                label = 32\n",
    "            elif folderName in ['R2']:\n",
    "                label = 33\n",
    "            elif folderName in ['S']:\n",
    "                label = 34\n",
    "            elif folderName in ['T']:\n",
    "                label = 35\n",
    "            elif folderName in ['T2']:\n",
    "                label = 36\n",
    "            elif folderName in ['U']:\n",
    "                label = 37\n",
    "            elif folderName in ['U2']:\n",
    "                label = 38\n",
    "            elif folderName in ['V']:\n",
    "                label = 39\n",
    "            elif folderName in ['W']:\n",
    "                label = 40\n",
    "            elif folderName in ['X']:\n",
    "                label = 41\n",
    "            elif folderName in ['Y']:\n",
    "                label = 42\n",
    "            elif folderName in ['Z']:\n",
    "                label = 43  \n",
    "            else:\n",
    "                label = 44\n",
    "            for image_filename in tqdm(os.listdir(folder + folderName)):\n",
    "                img_file = cv2.imread(folder + folderName + '/' + image_filename)\n",
    "                if img_file is not None:\n",
    "                    ##img_file=np_img = meijering(img_file)\n",
    "                    img_file = skimage.transform.resize(img_file, (28, 28, 3),mode='constant',anti_aliasing=True)\n",
    "                    img_file = rgb2gray(img_file)\n",
    "                    #img_file = scipy.misc.imresize(arr=img_file, size=(150, 150, 3))\n",
    "                    img_arr = np.asarray(img_file)\n",
    "                    X.append(img_arr)\n",
    "                    y.append(label)\n",
    "    X = np.asarray(X)\n",
    "    y = np.asarray(y)\n",
    "    return X,y\n",
    "\n",
    "\n",
    "if LOAD_FROM_IMAGES:\n",
    "    #cargamos las imágenes a los arrays\n",
    "    X_train, y_train = get_data(train_dir)\n",
    "    X_test, y_test= get_data(test_dir)\n",
    "    \n",
    "    #grabamos los arrays en archivos\n",
    "    np.save('xtrain.npy', X_train)\n",
    "    np.save('ytrain.npy', y_train)\n",
    "    np.save('xtest.npy', X_test)\n",
    "    np.save('ytest.npy', y_test)\n",
    "else:\n",
    "    #cargamos los arrays anteriormente grabados\n",
    "    X_train = np.load('xtrain.npy')\n",
    "    y_train = np.load('ytrain.npy')\n",
    "    X_test = np.load('xtest.npy')\n",
    "    y_test = np.load('ytest.npy')"
   ]
  },
  {
   "cell_type": "code",
   "execution_count": 38,
   "id": "tribal-congo",
   "metadata": {},
   "outputs": [
    {
     "data": {
      "image/png": "[encoded data removed]",
      "text/plain": [
       "<Figure size 864x432 with 2 Axes>"
      ]
     },
     "metadata": {
      "needs_background": "light"
     },
     "output_type": "display_data"
    }
   ],
   "source": [
    "def plotHistogram(a):\n",
    "    plt.figure(figsize=(12,6))\n",
    "    plt.subplot(1, 2, 1)\n",
    "    plt.hist(a.ravel(), bins=255)\n",
    "    plt.subplot(1, 2, 2)\n",
    "    plt.imshow(a, cmap='gray', vmin=0, vmax=1)\n",
    "    plt.show()\n",
    "    \n",
    "plotHistogram(X_train[46])\n"
   ]
  },
  {
   "cell_type": "code",
   "execution_count": 39,
   "id": "neither-phase",
   "metadata": {},
   "outputs": [],
   "source": [
    "X_trainReshaped = X_train.reshape(len(X_train),28,28,1)\n",
    "X_testReshaped = X_test.reshape(len(X_test),28,28,1)"
   ]
  },
  {
   "cell_type": "code",
   "execution_count": 40,
   "id": "disabled-light",
   "metadata": {},
   "outputs": [
    {
     "name": "stdout",
     "output_type": "stream",
     "text": [
      "Model: \"sequential_2\"\n",
      "_________________________________________________________________\n",
      "Layer (type)                 Output Shape              Param #   \n",
      "=================================================================\n",
      "conv2d_4 (Conv2D)            (None, 26, 26, 64)        640       \n",
      "_________________________________________________________________\n",
      "max_pooling2d_4 (MaxPooling2 (None, 13, 13, 64)        0         \n",
      "_________________________________________________________________\n",
      "conv2d_5 (Conv2D)            (None, 11, 11, 128)       73856     \n",
      "_________________________________________________________________\n",
      "max_pooling2d_5 (MaxPooling2 (None, 5, 5, 128)         0         \n",
      "_________________________________________________________________\n",
      "flatten_2 (Flatten)          (None, 3200)              0         \n",
      "_________________________________________________________________\n",
      "dense_2 (Dense)              (None, 44)                140844    \n",
      "=================================================================\n",
      "Total params: 215,340\n",
      "Trainable params: 215,340\n",
      "Non-trainable params: 0\n",
      "_________________________________________________________________\n"
     ]
    }
   ],
   "source": [
    "model = models.Sequential()\n",
    "\n",
    "model.add(layers.Conv2D(64, (3, 3), activation='relu', input_shape=(28, 28, 1)))\n",
    "model.add(layers.MaxPooling2D((2, 2)))\n",
    "\n",
    "model.add(layers.Conv2D(128, (3, 3), activation='relu'))\n",
    "model.add(layers.MaxPooling2D((2, 2)))\n",
    "\n",
    "\n",
    "model.add(layers.Flatten())\n",
    "\n",
    "model.add(layers.Dense(44, activation='softmax'))\n",
    "\n",
    "model.summary()"
   ]
  },
  {
   "cell_type": "markdown",
   "id": "closing-recipe",
   "metadata": {
    "scrolled": false
   },
   "source": [
    "\n",
    "    \n",
    "    "
   ]
  },
  {
   "cell_type": "code",
   "execution_count": 7,
   "id": "acoustic-bowling",
   "metadata": {},
   "outputs": [
    {
     "name": "stdout",
     "output_type": "stream",
     "text": [
      "epoca: 20/20\n",
      "accuracy: 97.8/92.5\n"
     ]
    }
   ],
   "source": [
    "model.compile(optimizer='adam',\n",
    "              loss='sparse_categorical_crossentropy',\n",
    "              metrics=['accuracy'])\n",
    "\n",
    "\n",
    "###Checkpoints\n",
    "checkpoint_path = \"checkpoints/modelo.h5\";\n",
    "\n",
    "ENTRENAR=True\n",
    "\n",
    "if ENTRENAR:\n",
    "    log_dir=\"logs/fit/\" + datetime.datetime.now().strftime(\"%Y%m%d-%H%M%S\")\n",
    "    cp_callbacks = tf.keras.callbacks.ModelCheckpoint(checkpoint_path)\n",
    "    tensorboard_callback = tf.keras.callbacks.TensorBoard(log_dir, histogram_freq=1)\n",
    "\n",
    "    model.fit(X_trainReshaped, \n",
    "              y_train, \n",
    "              epochs=20,\n",
    "              validation_data = (X_testReshaped,y_test),\n",
    "              callbacks = [cp_callbacks, tensorboard_callback])\n",
    "else:\n",
    "    model.load_weights(checkpoint_path)"
   ]
  },
  {
   "cell_type": "code",
   "execution_count": 23,
   "id": "brutal-barbados",
   "metadata": {
    "scrolled": false
   },
   "outputs": [
    {
     "data": {
      "image/png": "[encoded data removed]",
      "text/plain": [
       "<Figure size 864x432 with 2 Axes>"
      ]
     },
     "metadata": {
      "needs_background": "light"
     },
     "output_type": "display_data"
    },
    {
     "data": {
      "text/plain": [
       "(28, 28)"
      ]
     },
     "execution_count": 23,
     "metadata": {},
     "output_type": "execute_result"
    }
   ],
   "source": [
    "\n",
    "#para cargar imagenes de prueba\n",
    "from PIL import Image\n",
    "import requests\n",
    "from io import BytesIO\n",
    "\n",
    "img = Image.open('af2.jpg')\n",
    "np_img = np.array(img)\n",
    "##np_img = meijering(np_img)\n",
    "##np_img = rgb2hed(np_img)\n",
    "\n",
    "np_img = skimage.transform.resize(np_img, (28, 28, 3),mode='constant',anti_aliasing=True)\n",
    "\n",
    "\n",
    "np_img = rgb2gray(np_img)\n",
    "\n",
    "# mostramos la imagen\n",
    "plotHistogram(np_img)\n",
    "\n",
    "np_img.shape"
   ]
  },
  {
   "cell_type": "code",
   "execution_count": null,
   "id": "recorded-mileage",
   "metadata": {},
   "outputs": [],
   "source": []
  },
  {
   "cell_type": "code",
   "execution_count": 24,
   "id": "universal-danish",
   "metadata": {},
   "outputs": [
    {
     "data": {
      "text/plain": [
       "(1, 28, 28, 1)"
      ]
     },
     "execution_count": 24,
     "metadata": {},
     "output_type": "execute_result"
    }
   ],
   "source": [
    "np_img = np_img.reshape(1,28,28,1)\n",
    "np_img.shape"
   ]
  },
  {
   "cell_type": "code",
   "execution_count": 25,
   "id": "closed-empire",
   "metadata": {},
   "outputs": [
    {
     "data": {
      "text/plain": [
       "array([9.4286648e-11, 9.9999905e-01, 9.2475007e-29, 7.8968382e-15,\n",
       "       0.0000000e+00, 2.0039536e-20, 3.1759065e-22, 1.1431820e-36,\n",
       "       0.0000000e+00, 7.3370325e-22, 4.8472990e-30, 4.0002592e-15,\n",
       "       4.4335566e-25, 4.4944568e-15, 1.6971779e-17, 1.5685029e-38,\n",
       "       0.0000000e+00, 5.1522228e-26, 2.2168757e-24, 1.3026197e-21,\n",
       "       5.9217254e-31, 5.0432716e-25, 2.2163020e-23, 3.3907279e-13,\n",
       "       8.0034764e-13, 8.0906103e-24, 3.4012422e-12, 1.1763763e-33,\n",
       "       6.9300911e-32, 8.7126069e-30, 4.4315922e-19, 1.0278821e-20,\n",
       "       1.2585045e-34, 9.4693701e-07, 1.1351586e-16, 1.1426507e-20,\n",
       "       2.7276241e-25, 1.0696969e-28, 9.0987062e-31, 0.0000000e+00,\n",
       "       3.5815095e-34, 1.2759513e-25, 1.6042446e-27, 1.5970696e-35],\n",
       "      dtype=float32)"
      ]
     },
     "execution_count": 25,
     "metadata": {},
     "output_type": "execute_result"
    }
   ],
   "source": [
    "predictions = model.predict(np_img)\n",
    "predictions[0]"
   ]
  },
  {
   "cell_type": "code",
   "execution_count": 42,
   "id": "broad-agreement",
   "metadata": {
    "scrolled": true
   },
   "outputs": [
    {
     "data": {
      "image/png": "[encoded data removed]",
      "text/plain": [
       "<Figure size 432x288 with 1 Axes>"
      ]
     },
     "metadata": {
      "needs_background": "light"
     },
     "output_type": "display_data"
    }
   ],
   "source": [
    "class_names=['A','A2','B','B2','C','D','D2','E','E2','F','F','G','G2','H','H2','I','I2','J','J2','K','L','L2','M','M2','N','N2','Ñ','Ñ2','O','P','Q','Q2','R','R2','S','T','T2','U','U2','V','W','X','Y','Z']\n",
    "index = np.arange(len(class_names))\n",
    "plt.bar(index, predictions[0])\n",
    "plt.ylabel('Confiabilidad', fontsize=6)\n",
    "plt.xticks(index, class_names, fontsize=6, rotation=90)\n",
    "plt.title('Predicciones')\n",
    "plt.show()"
   ]
  },
  {
   "cell_type": "code",
   "execution_count": 30,
   "id": "departmental-salmon",
   "metadata": {},
   "outputs": [
    {
     "name": "stdout",
     "output_type": "stream",
     "text": [
      "INFO:tensorflow:Assets written to: C:\\Users\\halog\\AppData\\Local\\Temp\\tmp48ck6mb7\\assets\n"
     ]
    },
    {
     "data": {
      "text/plain": [
       "864104"
      ]
     },
     "execution_count": 30,
     "metadata": {},
     "output_type": "execute_result"
    }
   ],
   "source": [
    "\n",
    "\n",
    "converter= tf.lite.TFLiteConverter.from_keras_model(model)\n",
    "tflite_model=converter.convert()\n",
    "\n",
    "open(\"modeloLite.tflite\",\"wb\").write(tflite_model)"
   ]
  },
  {
   "cell_type": "code",
   "execution_count": 100,
   "id": "cardiovascular-major",
   "metadata": {
    "scrolled": true
   },
   "outputs": [
    {
     "name": "stderr",
     "output_type": "stream",
     "text": [
      "C:\\Users\\halog\\anaconda3\\envs\\eduwrite\\lib\\site-packages\\tensorflowjs\\converters\\keras_h5_conversion.py:123: H5pyDeprecationWarning: The default file mode will change to 'r' (read-only) in h5py 3.0. To suppress this warning, pass the mode you need to h5py.File(), or set the global default h5.get_config().default_file_mode, or set the environment variable H5PY_DEFAULT_READONLY=1. Available modes are: 'r', 'r+', 'w', 'w-'/'x', 'a'. See the docs for details.\n",
      "  return h5py.File(h5file)\n"
     ]
    }
   ],
   "source": [
    "##convertir a js para React native\n",
    "import tensorflowjs as tfjs\n",
    "\n",
    "tfjs.converters.save_keras_model(model,\"./tfjs_files\")"
   ]
  },
  {
   "cell_type": "code",
   "execution_count": null,
   "id": "editorial-positive",
   "metadata": {},
   "outputs": [],
   "source": []
  }
 ],
 "metadata": {
  "kernelspec": {
   "display_name": "Python 3",
   "language": "python",
   "name": "python3"
  },
  "language_info": {
   "codemirror_mode": {
    "name": "ipython",
    "version": 3
   },
   "file_extension": ".py",
   "mimetype": "text/x-python",
   "name": "python",
   "nbconvert_exporter": "python",
   "pygments_lexer": "ipython3",
   "version": "3.6.12"
  }
 },
 "nbformat": 4,
 "nbformat_minor": 5
}
